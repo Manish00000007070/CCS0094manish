{
  "nbformat": 4,
  "nbformat_minor": 0,
  "metadata": {
    "colab": {
      "provenance": []
    },
    "kernelspec": {
      "name": "python3",
      "display_name": "Python 3"
    },
    "language_info": {
      "name": "python"
    }
  },
  "cells": [
    {
      "cell_type": "code",
      "execution_count": null,
      "metadata": {
        "id": "mwSHA5du5B2z"
      },
      "outputs": [],
      "source": [
        "import requests\n",
        "Link=\"https://www.itcportal.com/\"\n",
        "Link_text = requests.get(Link).text\n",
        "print(Link_text)"
      ]
    },
    {
      "cell_type": "code",
      "source": [
        "from bs4 import BeautifulSoup\n",
        "soup= BeautifulSoup(Link_text,'lxml')\n",
        "print(soup)"
      ],
      "metadata": {
        "id": "8QWj_HSi52Ry"
      },
      "execution_count": null,
      "outputs": []
    },
    {
      "cell_type": "code",
      "source": [
        "print(soup.prettify())"
      ],
      "metadata": {
        "id": "3iEe7nmB8FhN"
      },
      "execution_count": null,
      "outputs": []
    },
    {
      "cell_type": "code",
      "source": [
        "print(soup.title)"
      ],
      "metadata": {
        "id": "TYrDAx0K8e1J"
      },
      "execution_count": null,
      "outputs": []
    },
    {
      "cell_type": "code",
      "source": [
        "print(soup.title.string)"
      ],
      "metadata": {
        "id": "_KlJBBrx8ml5"
      },
      "execution_count": null,
      "outputs": []
    },
    {
      "cell_type": "code",
      "source": [
        "soup.a"
      ],
      "metadata": {
        "id": "PVNoXqJY8ua5"
      },
      "execution_count": null,
      "outputs": []
    },
    {
      "cell_type": "code",
      "source": [
        "soup.find_all('a')"
      ],
      "metadata": {
        "id": "BExozqPG8zPh"
      },
      "execution_count": null,
      "outputs": []
    },
    {
      "cell_type": "code",
      "source": [
        "all_table=soup.find_all('table')\n",
        "print(all_table)"
      ],
      "metadata": {
        "id": "0k3yl46_87e5"
      },
      "execution_count": null,
      "outputs": []
    },
    {
      "cell_type": "code",
      "source": [],
      "metadata": {
        "id": "s3UlRovC9Gt5"
      },
      "execution_count": null,
      "outputs": []
    }
  ]
}